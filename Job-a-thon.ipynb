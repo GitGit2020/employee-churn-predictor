{
 "cells": [
  {
   "cell_type": "code",
   "execution_count": 267,
   "metadata": {},
   "outputs": [],
   "source": [
    "import pandas as pd\n",
    "import numpy as np\n",
    "import warnings\n",
    "warnings.filterwarnings(\"ignore\")\n",
    "pd.set_option('display.max_rows',200)\n",
    "\n",
    "from sklearn.preprocessing import OneHotEncoder,LabelEncoder,MinMaxScaler\n",
    "\n",
    "#from imblearn.over_sampling import SMOTE\n",
    "from sklearn.model_selection import train_test_split\n",
    "from sklearn.ensemble import RandomForestClassifier, GradientBoostingClassifier\n",
    "from catboost import CatBoostClassifier\n",
    "from sklearn.linear_model import LogisticRegression\n",
    "from sklearn import metrics\n",
    "import xgboost as xgb\n",
    "from xgboost import XGBClassifier\n",
    "import lightgbm as lgb\n",
    "\n",
    "\n",
    "pd.set_option('max_columns', 100)\n",
    "pd.set_option('max_rows', 100)"
   ]
  },
  {
   "cell_type": "markdown",
   "metadata": {},
   "source": [
    "### Read the data"
   ]
  },
  {
   "cell_type": "code",
   "execution_count": 268,
   "metadata": {},
   "outputs": [],
   "source": [
    "train = pd.read_csv(\"data/train_MpHjUjU.csv\")\n",
    "test = pd.read_csv(\"data/test_hXY9mYw.csv\")\n",
    "submission = pd.read_csv(\"data/sample_submission_znWiLZ4.csv\")"
   ]
  },
  {
   "cell_type": "code",
   "execution_count": 269,
   "metadata": {},
   "outputs": [
    {
     "data": {
      "text/html": [
       "<div>\n",
       "<style scoped>\n",
       "    .dataframe tbody tr th:only-of-type {\n",
       "        vertical-align: middle;\n",
       "    }\n",
       "\n",
       "    .dataframe tbody tr th {\n",
       "        vertical-align: top;\n",
       "    }\n",
       "\n",
       "    .dataframe thead th {\n",
       "        text-align: right;\n",
       "    }\n",
       "</style>\n",
       "<table border=\"1\" class=\"dataframe\">\n",
       "  <thead>\n",
       "    <tr style=\"text-align: right;\">\n",
       "      <th></th>\n",
       "      <th>MMM-YY</th>\n",
       "      <th>Emp_ID</th>\n",
       "      <th>Age</th>\n",
       "      <th>Gender</th>\n",
       "      <th>City</th>\n",
       "      <th>Education_Level</th>\n",
       "      <th>Salary</th>\n",
       "      <th>Dateofjoining</th>\n",
       "      <th>LastWorkingDate</th>\n",
       "      <th>Joining Designation</th>\n",
       "      <th>Designation</th>\n",
       "      <th>Total Business Value</th>\n",
       "      <th>Quarterly Rating</th>\n",
       "    </tr>\n",
       "  </thead>\n",
       "  <tbody>\n",
       "    <tr>\n",
       "      <th>0</th>\n",
       "      <td>01-01-2016</td>\n",
       "      <td>1</td>\n",
       "      <td>28</td>\n",
       "      <td>Male</td>\n",
       "      <td>C23</td>\n",
       "      <td>Master</td>\n",
       "      <td>57387</td>\n",
       "      <td>24-12-2015</td>\n",
       "      <td>NaN</td>\n",
       "      <td>1</td>\n",
       "      <td>1</td>\n",
       "      <td>2381060</td>\n",
       "      <td>2</td>\n",
       "    </tr>\n",
       "    <tr>\n",
       "      <th>1</th>\n",
       "      <td>01-02-2016</td>\n",
       "      <td>1</td>\n",
       "      <td>28</td>\n",
       "      <td>Male</td>\n",
       "      <td>C23</td>\n",
       "      <td>Master</td>\n",
       "      <td>57387</td>\n",
       "      <td>24-12-2015</td>\n",
       "      <td>NaN</td>\n",
       "      <td>1</td>\n",
       "      <td>1</td>\n",
       "      <td>-665480</td>\n",
       "      <td>2</td>\n",
       "    </tr>\n",
       "    <tr>\n",
       "      <th>2</th>\n",
       "      <td>01-03-2016</td>\n",
       "      <td>1</td>\n",
       "      <td>28</td>\n",
       "      <td>Male</td>\n",
       "      <td>C23</td>\n",
       "      <td>Master</td>\n",
       "      <td>57387</td>\n",
       "      <td>24-12-2015</td>\n",
       "      <td>11-03-2016</td>\n",
       "      <td>1</td>\n",
       "      <td>1</td>\n",
       "      <td>0</td>\n",
       "      <td>2</td>\n",
       "    </tr>\n",
       "    <tr>\n",
       "      <th>3</th>\n",
       "      <td>01-11-2017</td>\n",
       "      <td>2</td>\n",
       "      <td>31</td>\n",
       "      <td>Male</td>\n",
       "      <td>C7</td>\n",
       "      <td>Master</td>\n",
       "      <td>67016</td>\n",
       "      <td>06-11-2017</td>\n",
       "      <td>NaN</td>\n",
       "      <td>2</td>\n",
       "      <td>2</td>\n",
       "      <td>0</td>\n",
       "      <td>1</td>\n",
       "    </tr>\n",
       "    <tr>\n",
       "      <th>4</th>\n",
       "      <td>01-12-2017</td>\n",
       "      <td>2</td>\n",
       "      <td>31</td>\n",
       "      <td>Male</td>\n",
       "      <td>C7</td>\n",
       "      <td>Master</td>\n",
       "      <td>67016</td>\n",
       "      <td>06-11-2017</td>\n",
       "      <td>NaN</td>\n",
       "      <td>2</td>\n",
       "      <td>2</td>\n",
       "      <td>0</td>\n",
       "      <td>1</td>\n",
       "    </tr>\n",
       "  </tbody>\n",
       "</table>\n",
       "</div>"
      ],
      "text/plain": [
       "       MMM-YY  Emp_ID  Age Gender City Education_Level  Salary Dateofjoining  \\\n",
       "0  01-01-2016       1   28   Male  C23          Master   57387    24-12-2015   \n",
       "1  01-02-2016       1   28   Male  C23          Master   57387    24-12-2015   \n",
       "2  01-03-2016       1   28   Male  C23          Master   57387    24-12-2015   \n",
       "3  01-11-2017       2   31   Male   C7          Master   67016    06-11-2017   \n",
       "4  01-12-2017       2   31   Male   C7          Master   67016    06-11-2017   \n",
       "\n",
       "  LastWorkingDate  Joining Designation  Designation  Total Business Value  \\\n",
       "0             NaN                    1            1               2381060   \n",
       "1             NaN                    1            1               -665480   \n",
       "2      11-03-2016                    1            1                     0   \n",
       "3             NaN                    2            2                     0   \n",
       "4             NaN                    2            2                     0   \n",
       "\n",
       "   Quarterly Rating  \n",
       "0                 2  \n",
       "1                 2  \n",
       "2                 2  \n",
       "3                 1  \n",
       "4                 1  "
      ]
     },
     "execution_count": 269,
     "metadata": {},
     "output_type": "execute_result"
    }
   ],
   "source": [
    "train.head()"
   ]
  },
  {
   "cell_type": "code",
   "execution_count": 270,
   "metadata": {},
   "outputs": [
    {
     "name": "stdout",
     "output_type": "stream",
     "text": [
      "<class 'pandas.core.frame.DataFrame'>\n",
      "RangeIndex: 19104 entries, 0 to 19103\n",
      "Data columns (total 13 columns):\n",
      " #   Column                Non-Null Count  Dtype \n",
      "---  ------                --------------  ----- \n",
      " 0   MMM-YY                19104 non-null  object\n",
      " 1   Emp_ID                19104 non-null  int64 \n",
      " 2   Age                   19104 non-null  int64 \n",
      " 3   Gender                19104 non-null  object\n",
      " 4   City                  19104 non-null  object\n",
      " 5   Education_Level       19104 non-null  object\n",
      " 6   Salary                19104 non-null  int64 \n",
      " 7   Dateofjoining         19104 non-null  object\n",
      " 8   LastWorkingDate       1616 non-null   object\n",
      " 9   Joining Designation   19104 non-null  int64 \n",
      " 10  Designation           19104 non-null  int64 \n",
      " 11  Total Business Value  19104 non-null  int64 \n",
      " 12  Quarterly Rating      19104 non-null  int64 \n",
      "dtypes: int64(7), object(6)\n",
      "memory usage: 1.9+ MB\n"
     ]
    }
   ],
   "source": [
    "train.info()"
   ]
  },
  {
   "cell_type": "code",
   "execution_count": 271,
   "metadata": {},
   "outputs": [
    {
     "data": {
      "text/html": [
       "<div>\n",
       "<style scoped>\n",
       "    .dataframe tbody tr th:only-of-type {\n",
       "        vertical-align: middle;\n",
       "    }\n",
       "\n",
       "    .dataframe tbody tr th {\n",
       "        vertical-align: top;\n",
       "    }\n",
       "\n",
       "    .dataframe thead th {\n",
       "        text-align: right;\n",
       "    }\n",
       "</style>\n",
       "<table border=\"1\" class=\"dataframe\">\n",
       "  <thead>\n",
       "    <tr style=\"text-align: right;\">\n",
       "      <th></th>\n",
       "      <th>Emp_ID</th>\n",
       "    </tr>\n",
       "  </thead>\n",
       "  <tbody>\n",
       "    <tr>\n",
       "      <th>0</th>\n",
       "      <td>394</td>\n",
       "    </tr>\n",
       "    <tr>\n",
       "      <th>1</th>\n",
       "      <td>173</td>\n",
       "    </tr>\n",
       "    <tr>\n",
       "      <th>2</th>\n",
       "      <td>1090</td>\n",
       "    </tr>\n",
       "    <tr>\n",
       "      <th>3</th>\n",
       "      <td>840</td>\n",
       "    </tr>\n",
       "    <tr>\n",
       "      <th>4</th>\n",
       "      <td>308</td>\n",
       "    </tr>\n",
       "  </tbody>\n",
       "</table>\n",
       "</div>"
      ],
      "text/plain": [
       "   Emp_ID\n",
       "0     394\n",
       "1     173\n",
       "2    1090\n",
       "3     840\n",
       "4     308"
      ]
     },
     "execution_count": 271,
     "metadata": {},
     "output_type": "execute_result"
    }
   ],
   "source": [
    "test.head()"
   ]
  },
  {
   "cell_type": "code",
   "execution_count": 272,
   "metadata": {},
   "outputs": [
    {
     "name": "stdout",
     "output_type": "stream",
     "text": [
      "<class 'pandas.core.frame.DataFrame'>\n",
      "RangeIndex: 741 entries, 0 to 740\n",
      "Data columns (total 1 columns):\n",
      " #   Column  Non-Null Count  Dtype\n",
      "---  ------  --------------  -----\n",
      " 0   Emp_ID  741 non-null    int64\n",
      "dtypes: int64(1)\n",
      "memory usage: 5.9 KB\n"
     ]
    }
   ],
   "source": [
    "test.info()"
   ]
  },
  {
   "cell_type": "code",
   "execution_count": 273,
   "metadata": {},
   "outputs": [
    {
     "data": {
      "text/plain": [
       "MMM-YY                     24\n",
       "Emp_ID                   2381\n",
       "Age                        36\n",
       "Gender                      2\n",
       "City                       29\n",
       "Education_Level             3\n",
       "Salary                   2383\n",
       "Dateofjoining             869\n",
       "LastWorkingDate           493\n",
       "Joining Designation         5\n",
       "Designation                 5\n",
       "Total Business Value    10181\n",
       "Quarterly Rating            4\n",
       "dtype: int64"
      ]
     },
     "execution_count": 273,
     "metadata": {},
     "output_type": "execute_result"
    }
   ],
   "source": [
    "train.nunique()"
   ]
  },
  {
   "cell_type": "code",
   "execution_count": 274,
   "metadata": {},
   "outputs": [
    {
     "data": {
      "text/plain": [
       "MMM-YY                      0\n",
       "Emp_ID                      0\n",
       "Age                         0\n",
       "Gender                      0\n",
       "City                        0\n",
       "Education_Level             0\n",
       "Salary                      0\n",
       "Dateofjoining               0\n",
       "LastWorkingDate         17488\n",
       "Joining Designation         0\n",
       "Designation                 0\n",
       "Total Business Value        0\n",
       "Quarterly Rating            0\n",
       "dtype: int64"
      ]
     },
     "execution_count": 274,
     "metadata": {},
     "output_type": "execute_result"
    }
   ],
   "source": [
    "train.isnull().sum()"
   ]
  },
  {
   "cell_type": "code",
   "execution_count": 275,
   "metadata": {},
   "outputs": [
    {
     "data": {
      "text/plain": [
       "MMM-YY                  object\n",
       "Emp_ID                   int64\n",
       "Age                      int64\n",
       "Gender                  object\n",
       "City                    object\n",
       "Education_Level         object\n",
       "Salary                   int64\n",
       "Dateofjoining           object\n",
       "LastWorkingDate         object\n",
       "Joining Designation      int64\n",
       "Designation              int64\n",
       "Total Business Value     int64\n",
       "Quarterly Rating         int64\n",
       "dtype: object"
      ]
     },
     "execution_count": 275,
     "metadata": {},
     "output_type": "execute_result"
    }
   ],
   "source": [
    "train.dtypes"
   ]
  },
  {
   "cell_type": "code",
   "execution_count": 276,
   "metadata": {},
   "outputs": [],
   "source": [
    "train['MMM-YY'] = pd.to_datetime(train['MMM-YY'])\n",
    "train['Dateofjoining'] = pd.to_datetime(train['Dateofjoining'])\n",
    "train['LastWorkingDate'] = pd.to_datetime(train['LastWorkingDate'])"
   ]
  },
  {
   "cell_type": "code",
   "execution_count": 277,
   "metadata": {},
   "outputs": [],
   "source": [
    "emp_churned = train[~train.LastWorkingDate.isnull()]['Emp_ID']"
   ]
  },
  {
   "cell_type": "code",
   "execution_count": 278,
   "metadata": {},
   "outputs": [],
   "source": [
    "emp_demo_details = ['Emp_ID','Age','Gender','City','Education_Level']"
   ]
  },
  {
   "cell_type": "code",
   "execution_count": 279,
   "metadata": {},
   "outputs": [],
   "source": [
    "df = train[emp_demo_details]"
   ]
  },
  {
   "cell_type": "code",
   "execution_count": 280,
   "metadata": {},
   "outputs": [],
   "source": [
    "df = df.drop_duplicates(subset=['Emp_ID'])"
   ]
  },
  {
   "cell_type": "code",
   "execution_count": 281,
   "metadata": {},
   "outputs": [
    {
     "data": {
      "text/plain": [
       "(2381, 5)"
      ]
     },
     "execution_count": 281,
     "metadata": {},
     "output_type": "execute_result"
    }
   ],
   "source": [
    "df.shape"
   ]
  },
  {
   "cell_type": "code",
   "execution_count": 282,
   "metadata": {},
   "outputs": [
    {
     "data": {
      "text/html": [
       "<div>\n",
       "<style scoped>\n",
       "    .dataframe tbody tr th:only-of-type {\n",
       "        vertical-align: middle;\n",
       "    }\n",
       "\n",
       "    .dataframe tbody tr th {\n",
       "        vertical-align: top;\n",
       "    }\n",
       "\n",
       "    .dataframe thead th {\n",
       "        text-align: right;\n",
       "    }\n",
       "</style>\n",
       "<table border=\"1\" class=\"dataframe\">\n",
       "  <thead>\n",
       "    <tr style=\"text-align: right;\">\n",
       "      <th></th>\n",
       "      <th>Emp_ID</th>\n",
       "      <th>Age</th>\n",
       "      <th>Gender</th>\n",
       "      <th>City</th>\n",
       "      <th>Education_Level</th>\n",
       "      <th>Churn</th>\n",
       "    </tr>\n",
       "  </thead>\n",
       "  <tbody>\n",
       "    <tr>\n",
       "      <th>0</th>\n",
       "      <td>1</td>\n",
       "      <td>28</td>\n",
       "      <td>Male</td>\n",
       "      <td>C23</td>\n",
       "      <td>Master</td>\n",
       "      <td>1</td>\n",
       "    </tr>\n",
       "    <tr>\n",
       "      <th>3</th>\n",
       "      <td>2</td>\n",
       "      <td>31</td>\n",
       "      <td>Male</td>\n",
       "      <td>C7</td>\n",
       "      <td>Master</td>\n",
       "      <td>0</td>\n",
       "    </tr>\n",
       "    <tr>\n",
       "      <th>5</th>\n",
       "      <td>4</td>\n",
       "      <td>43</td>\n",
       "      <td>Male</td>\n",
       "      <td>C13</td>\n",
       "      <td>Master</td>\n",
       "      <td>1</td>\n",
       "    </tr>\n",
       "    <tr>\n",
       "      <th>10</th>\n",
       "      <td>5</td>\n",
       "      <td>29</td>\n",
       "      <td>Male</td>\n",
       "      <td>C9</td>\n",
       "      <td>College</td>\n",
       "      <td>1</td>\n",
       "    </tr>\n",
       "    <tr>\n",
       "      <th>13</th>\n",
       "      <td>6</td>\n",
       "      <td>31</td>\n",
       "      <td>Female</td>\n",
       "      <td>C11</td>\n",
       "      <td>Bachelor</td>\n",
       "      <td>0</td>\n",
       "    </tr>\n",
       "    <tr>\n",
       "      <th>18</th>\n",
       "      <td>8</td>\n",
       "      <td>34</td>\n",
       "      <td>Male</td>\n",
       "      <td>C2</td>\n",
       "      <td>College</td>\n",
       "      <td>1</td>\n",
       "    </tr>\n",
       "    <tr>\n",
       "      <th>21</th>\n",
       "      <td>11</td>\n",
       "      <td>28</td>\n",
       "      <td>Female</td>\n",
       "      <td>C19</td>\n",
       "      <td>Master</td>\n",
       "      <td>0</td>\n",
       "    </tr>\n",
       "    <tr>\n",
       "      <th>22</th>\n",
       "      <td>12</td>\n",
       "      <td>35</td>\n",
       "      <td>Male</td>\n",
       "      <td>C23</td>\n",
       "      <td>Master</td>\n",
       "      <td>1</td>\n",
       "    </tr>\n",
       "    <tr>\n",
       "      <th>28</th>\n",
       "      <td>13</td>\n",
       "      <td>29</td>\n",
       "      <td>Male</td>\n",
       "      <td>C19</td>\n",
       "      <td>Master</td>\n",
       "      <td>1</td>\n",
       "    </tr>\n",
       "    <tr>\n",
       "      <th>51</th>\n",
       "      <td>14</td>\n",
       "      <td>39</td>\n",
       "      <td>Female</td>\n",
       "      <td>C26</td>\n",
       "      <td>College</td>\n",
       "      <td>0</td>\n",
       "    </tr>\n",
       "  </tbody>\n",
       "</table>\n",
       "</div>"
      ],
      "text/plain": [
       "    Emp_ID  Age  Gender City Education_Level  Churn\n",
       "0        1   28    Male  C23          Master      1\n",
       "3        2   31    Male   C7          Master      0\n",
       "5        4   43    Male  C13          Master      1\n",
       "10       5   29    Male   C9         College      1\n",
       "13       6   31  Female  C11        Bachelor      0\n",
       "18       8   34    Male   C2         College      1\n",
       "21      11   28  Female  C19          Master      0\n",
       "22      12   35    Male  C23          Master      1\n",
       "28      13   29    Male  C19          Master      1\n",
       "51      14   39  Female  C26         College      0"
      ]
     },
     "execution_count": 282,
     "metadata": {},
     "output_type": "execute_result"
    }
   ],
   "source": [
    "churn = df.Emp_ID.isin(emp_churned)\n",
    "df['Churn'] = churn\n",
    "df['Churn'].replace({False: 0, True: 1}, inplace=True)\n",
    "df.head(10)"
   ]
  },
  {
   "cell_type": "code",
   "execution_count": 283,
   "metadata": {},
   "outputs": [],
   "source": [
    "emp_work_details = ['MMM-YY','Dateofjoining','LastWorkingDate','Designation',\n",
    "                    'Joining Designation','Total Business Value','Quarterly Rating']"
   ]
  },
  {
   "cell_type": "code",
   "execution_count": 284,
   "metadata": {},
   "outputs": [],
   "source": [
    "# Promotion\n",
    "temp = train[['Emp_ID','Designation','Joining Designation']]\n",
    "temp = temp.groupby(['Emp_ID']).nth(-1)\n",
    "\n",
    "\n",
    "temp['Promotion'] = temp['Designation'] - temp['Joining Designation']\n",
    "temp['Promotion'] = temp['Promotion'].tolist()\n",
    "\n",
    "df['Designation'] = temp['Designation'].tolist()\n",
    "df['Promotion'] = temp['Promotion'].tolist()\n"
   ]
  },
  {
   "cell_type": "code",
   "execution_count": 285,
   "metadata": {},
   "outputs": [
    {
     "data": {
      "text/html": [
       "<div>\n",
       "<style scoped>\n",
       "    .dataframe tbody tr th:only-of-type {\n",
       "        vertical-align: middle;\n",
       "    }\n",
       "\n",
       "    .dataframe tbody tr th {\n",
       "        vertical-align: top;\n",
       "    }\n",
       "\n",
       "    .dataframe thead th {\n",
       "        text-align: right;\n",
       "    }\n",
       "</style>\n",
       "<table border=\"1\" class=\"dataframe\">\n",
       "  <thead>\n",
       "    <tr style=\"text-align: right;\">\n",
       "      <th></th>\n",
       "      <th>Emp_ID</th>\n",
       "      <th>Age</th>\n",
       "      <th>Gender</th>\n",
       "      <th>City</th>\n",
       "      <th>Education_Level</th>\n",
       "      <th>Churn</th>\n",
       "      <th>Designation</th>\n",
       "      <th>Promotion</th>\n",
       "    </tr>\n",
       "  </thead>\n",
       "  <tbody>\n",
       "    <tr>\n",
       "      <th>0</th>\n",
       "      <td>1</td>\n",
       "      <td>28</td>\n",
       "      <td>Male</td>\n",
       "      <td>C23</td>\n",
       "      <td>Master</td>\n",
       "      <td>1</td>\n",
       "      <td>1</td>\n",
       "      <td>0</td>\n",
       "    </tr>\n",
       "    <tr>\n",
       "      <th>3</th>\n",
       "      <td>2</td>\n",
       "      <td>31</td>\n",
       "      <td>Male</td>\n",
       "      <td>C7</td>\n",
       "      <td>Master</td>\n",
       "      <td>0</td>\n",
       "      <td>2</td>\n",
       "      <td>0</td>\n",
       "    </tr>\n",
       "    <tr>\n",
       "      <th>5</th>\n",
       "      <td>4</td>\n",
       "      <td>43</td>\n",
       "      <td>Male</td>\n",
       "      <td>C13</td>\n",
       "      <td>Master</td>\n",
       "      <td>1</td>\n",
       "      <td>2</td>\n",
       "      <td>0</td>\n",
       "    </tr>\n",
       "    <tr>\n",
       "      <th>10</th>\n",
       "      <td>5</td>\n",
       "      <td>29</td>\n",
       "      <td>Male</td>\n",
       "      <td>C9</td>\n",
       "      <td>College</td>\n",
       "      <td>1</td>\n",
       "      <td>1</td>\n",
       "      <td>0</td>\n",
       "    </tr>\n",
       "    <tr>\n",
       "      <th>13</th>\n",
       "      <td>6</td>\n",
       "      <td>31</td>\n",
       "      <td>Female</td>\n",
       "      <td>C11</td>\n",
       "      <td>Bachelor</td>\n",
       "      <td>0</td>\n",
       "      <td>3</td>\n",
       "      <td>0</td>\n",
       "    </tr>\n",
       "  </tbody>\n",
       "</table>\n",
       "</div>"
      ],
      "text/plain": [
       "    Emp_ID  Age  Gender City Education_Level  Churn  Designation  Promotion\n",
       "0        1   28    Male  C23          Master      1            1          0\n",
       "3        2   31    Male   C7          Master      0            2          0\n",
       "5        4   43    Male  C13          Master      1            2          0\n",
       "10       5   29    Male   C9         College      1            1          0\n",
       "13       6   31  Female  C11        Bachelor      0            3          0"
      ]
     },
     "execution_count": 285,
     "metadata": {},
     "output_type": "execute_result"
    }
   ],
   "source": [
    "df.head()"
   ]
  },
  {
   "cell_type": "code",
   "execution_count": 286,
   "metadata": {},
   "outputs": [],
   "source": [
    "df_1 = train[['Emp_ID', 'MMM-YY','Dateofjoining','LastWorkingDate', 'Salary']]\n",
    "df_last_sal = df_1.groupby(['Emp_ID']).nth(-1)\n",
    "df_last_sal.rename(columns={'Salary':'Last_Salary'}, inplace=True)\n",
    "df = df.merge(df_last_sal, on = 'Emp_ID', how='left')\n",
    "df = df[['Emp_ID', 'Age', 'Gender', 'City', 'Education_Level', 'Promotion', 'Last_Salary', 'Designation', 'Churn']]"
   ]
  },
  {
   "cell_type": "code",
   "execution_count": 287,
   "metadata": {},
   "outputs": [],
   "source": [
    "# Rating\n",
    "df_1 = train[['Emp_ID', 'MMM-YY','Dateofjoining','LastWorkingDate', 'Quarterly Rating']]\n",
    "df_last_rating = df_1.groupby(['Emp_ID']).nth(-1)\n",
    "df_second_last_rating = df_1.groupby(['Emp_ID']).nth(-2)\n",
    "df_last_rating.rename(columns={'Quarterly Rating':'Last_Quarterly_Rating'}, inplace=True)\n",
    "# df_second_last_rating.rename(columns={'Quarterly Rating':'Second_Last_Quarterly_Rating'}, inplace=True)\n",
    "# df_second_last_rating = df_second_last_rating['Second_Last_Quarterly_Rating']\n",
    "df = df.merge(df_last_rating, on = 'Emp_ID', how='left')\n",
    "#df = df.merge(df_second_last_rating, on = 'Emp_ID', how='left')\n",
    "df = df[['Emp_ID', 'Age', 'Gender', 'City', 'Education_Level', 'Promotion', 'Designation','Last_Salary', 'Last_Quarterly_Rating','Churn']]"
   ]
  },
  {
   "cell_type": "code",
   "execution_count": 288,
   "metadata": {},
   "outputs": [],
   "source": [
    "# Tenure\n",
    "df_last_sal = df_last_sal.merge(df, on='Emp_ID', how='left')\n",
    "df_last_sal = df_last_sal[['Emp_ID', 'MMM-YY','Dateofjoining', 'LastWorkingDate','Churn']]\n",
    "\n",
    "df_last_sal['Tenure_months'] = \"\"\n",
    "df_last_sal['Tenure_months'][df_last_sal.Churn == 1] = df_last_sal.LastWorkingDate.dt.month - df_last_sal.Dateofjoining.dt.month + 12*(df_last_sal.LastWorkingDate.dt.year - df_last_sal.Dateofjoining.dt.year)\n",
    "df_last_sal['Tenure_months'][df_last_sal.Churn == 0] = df_last_sal['MMM-YY'].dt.month - df_last_sal.Dateofjoining.dt.month + 12*(df_last_sal['MMM-YY'].dt.year - df_last_sal.Dateofjoining.dt.year)\n",
    "\n",
    "df['Tenure_months'] = df_last_sal['Tenure_months']\n",
    "df['Tenure_months'] = df['Tenure_months'].astype(int)"
   ]
  },
  {
   "cell_type": "code",
   "execution_count": 289,
   "metadata": {},
   "outputs": [
    {
     "data": {
      "text/plain": [
       "Emp_ID                    int64\n",
       "Age                       int64\n",
       "Gender                   object\n",
       "City                     object\n",
       "Education_Level          object\n",
       "Promotion                 int64\n",
       "Designation               int64\n",
       "Last_Salary               int64\n",
       "Last_Quarterly_Rating     int64\n",
       "Churn                     int64\n",
       "Tenure_months             int32\n",
       "dtype: object"
      ]
     },
     "execution_count": 289,
     "metadata": {},
     "output_type": "execute_result"
    }
   ],
   "source": [
    "df.dtypes"
   ]
  },
  {
   "cell_type": "code",
   "execution_count": 290,
   "metadata": {},
   "outputs": [],
   "source": [
    "# Average Business Value by tenure\n",
    "df_2 = train[['Emp_ID', 'Total Business Value']]\n",
    "df_2 = df_2.groupby(['Emp_ID'])['Total Business Value'].mean().reset_index()\n",
    "df['Avg_Quarterly_Business'] = df_2['Total Business Value']"
   ]
  },
  {
   "cell_type": "code",
   "execution_count": 291,
   "metadata": {},
   "outputs": [],
   "source": [
    "train_df = df"
   ]
  },
  {
   "cell_type": "code",
   "execution_count": 292,
   "metadata": {},
   "outputs": [],
   "source": [
    "train_columns = ['Age', 'Gender','City','Education_Level','Promotion', 'Last_Salary', 'Last_Quarterly_Rating', 'Tenure_months', 'Avg_Quarterly_Business', 'Designation']"
   ]
  },
  {
   "cell_type": "code",
   "execution_count": 293,
   "metadata": {},
   "outputs": [
    {
     "name": "stdout",
     "output_type": "stream",
     "text": [
      "<class 'pandas.core.frame.DataFrame'>\n",
      "Int64Index: 2381 entries, 0 to 2380\n",
      "Data columns (total 12 columns):\n",
      " #   Column                  Non-Null Count  Dtype  \n",
      "---  ------                  --------------  -----  \n",
      " 0   Emp_ID                  2381 non-null   int64  \n",
      " 1   Age                     2381 non-null   int64  \n",
      " 2   Gender                  2381 non-null   object \n",
      " 3   City                    2381 non-null   object \n",
      " 4   Education_Level         2381 non-null   object \n",
      " 5   Promotion               2381 non-null   int64  \n",
      " 6   Designation             2381 non-null   int64  \n",
      " 7   Last_Salary             2381 non-null   int64  \n",
      " 8   Last_Quarterly_Rating   2381 non-null   int64  \n",
      " 9   Churn                   2381 non-null   int64  \n",
      " 10  Tenure_months           2381 non-null   int32  \n",
      " 11  Avg_Quarterly_Business  2381 non-null   float64\n",
      "dtypes: float64(1), int32(1), int64(7), object(3)\n",
      "memory usage: 232.5+ KB\n"
     ]
    }
   ],
   "source": [
    "train_df.info()"
   ]
  },
  {
   "cell_type": "markdown",
   "metadata": {},
   "source": [
    "### Encodings"
   ]
  },
  {
   "cell_type": "code",
   "execution_count": 294,
   "metadata": {},
   "outputs": [
    {
     "data": {
      "text/plain": [
       "Emp_ID                    2381\n",
       "Age                         35\n",
       "Gender                       2\n",
       "City                        29\n",
       "Education_Level              3\n",
       "Promotion                    5\n",
       "Designation                  5\n",
       "Last_Salary               2339\n",
       "Last_Quarterly_Rating        4\n",
       "Churn                        2\n",
       "Tenure_months               99\n",
       "Avg_Quarterly_Business    1639\n",
       "dtype: int64"
      ]
     },
     "execution_count": 294,
     "metadata": {},
     "output_type": "execute_result"
    }
   ],
   "source": [
    "train_df.nunique()"
   ]
  },
  {
   "cell_type": "code",
   "execution_count": 295,
   "metadata": {},
   "outputs": [],
   "source": [
    "#One Hot Coding:\n",
    "#train_df = pd.get_dummies(train_df, columns=['Gender','City','Education_Level'])\n",
    "train_df = pd.get_dummies(train_df, columns=['Gender','Education_Level','City'])"
   ]
  },
  {
   "cell_type": "code",
   "execution_count": 296,
   "metadata": {},
   "outputs": [],
   "source": [
    "#Label Encoding\n",
    "from sklearn.preprocessing import LabelEncoder\n",
    "le = LabelEncoder()\n",
    "\n",
    "label_var = ['Promotion','Designation','Last_Quarterly_Rating']\n",
    "le = LabelEncoder()\n",
    "for i in label_var:\n",
    "    train_df[i] = le.fit_transform(train_df[i])\n",
    "    \n",
    "scaler = MinMaxScaler()\n",
    "scale_var = ['Age','Tenure_months','Avg_Quarterly_Business']\n",
    "for k in scale_var:\n",
    "    train_df[[k]] = scaler.fit_transform(train_df[[k]])"
   ]
  },
  {
   "cell_type": "code",
   "execution_count": 297,
   "metadata": {},
   "outputs": [],
   "source": [
    "train_df[['Age']] = scaler.fit_transform(train_df[['Age']])"
   ]
  },
  {
   "cell_type": "code",
   "execution_count": 298,
   "metadata": {},
   "outputs": [],
   "source": [
    "target = train_df[['Churn']]"
   ]
  },
  {
   "cell_type": "code",
   "execution_count": 299,
   "metadata": {},
   "outputs": [],
   "source": [
    "###  Join test with train df\n",
    "test_df = test.merge(train_df, on='Emp_ID', how='left')"
   ]
  },
  {
   "cell_type": "code",
   "execution_count": 300,
   "metadata": {},
   "outputs": [],
   "source": [
    "train_df = train_df.drop(['Emp_ID','Churn'],axis=1)"
   ]
  },
  {
   "cell_type": "code",
   "execution_count": 301,
   "metadata": {},
   "outputs": [
    {
     "data": {
      "text/plain": [
       "Index(['Age', 'Promotion', 'Designation', 'Last_Salary',\n",
       "       'Last_Quarterly_Rating', 'Tenure_months', 'Avg_Quarterly_Business',\n",
       "       'Gender_Female', 'Gender_Male', 'Education_Level_Bachelor',\n",
       "       'Education_Level_College', 'Education_Level_Master', 'City_C1',\n",
       "       'City_C10', 'City_C11', 'City_C12', 'City_C13', 'City_C14', 'City_C15',\n",
       "       'City_C16', 'City_C17', 'City_C18', 'City_C19', 'City_C2', 'City_C20',\n",
       "       'City_C21', 'City_C22', 'City_C23', 'City_C24', 'City_C25', 'City_C26',\n",
       "       'City_C27', 'City_C28', 'City_C29', 'City_C3', 'City_C4', 'City_C5',\n",
       "       'City_C6', 'City_C7', 'City_C8', 'City_C9'],\n",
       "      dtype='object')"
      ]
     },
     "execution_count": 301,
     "metadata": {},
     "output_type": "execute_result"
    }
   ],
   "source": [
    "train_df.columns"
   ]
  },
  {
   "cell_type": "code",
   "execution_count": 302,
   "metadata": {},
   "outputs": [],
   "source": [
    "### Model Building\n",
    "# Split data into train and test sets as well as for validation and testing\n",
    "train, test, target_train, target_val = train_test_split(train_df, \n",
    "                                                         target, \n",
    "                                                         train_size= 0.80,\n",
    "                                                         random_state=0);\n"
   ]
  },
  {
   "cell_type": "code",
   "execution_count": 303,
   "metadata": {},
   "outputs": [
    {
     "data": {
      "text/plain": [
       "((1904, 41), (477, 41), (1904, 1), (477, 1))"
      ]
     },
     "execution_count": 303,
     "metadata": {},
     "output_type": "execute_result"
    }
   ],
   "source": [
    "train.shape, test.shape, target_train.shape, target_val.shape"
   ]
  },
  {
   "cell_type": "code",
   "execution_count": 304,
   "metadata": {},
   "outputs": [
    {
     "name": "stdout",
     "output_type": "stream",
     "text": [
      "Fitting of Logistic Forest finished\n"
     ]
    }
   ],
   "source": [
    "# Logistic Regression\n",
    "lr = LogisticRegression()\n",
    "lr.fit(train, target_train)\n",
    "print(\"Fitting of Logistic Forest finished\")"
   ]
  },
  {
   "cell_type": "code",
   "execution_count": 305,
   "metadata": {},
   "outputs": [
    {
     "name": "stdout",
     "output_type": "stream",
     "text": [
      "Predictions finished\n"
     ]
    }
   ],
   "source": [
    "lr_predictions = lr.predict(test)\n",
    "print(\"Predictions finished\")"
   ]
  },
  {
   "cell_type": "code",
   "execution_count": 306,
   "metadata": {},
   "outputs": [
    {
     "name": "stdout",
     "output_type": "stream",
     "text": [
      "f1 score: 0.819672131147541\n",
      "Accuracy: 0.7463312368972747\n",
      "================================================================================\n",
      "              precision    recall  f1-score   support\n",
      "\n",
      "           0       0.70      0.48      0.57       168\n",
      "           1       0.76      0.89      0.82       309\n",
      "\n",
      "    accuracy                           0.75       477\n",
      "   macro avg       0.73      0.69      0.70       477\n",
      "weighted avg       0.74      0.75      0.73       477\n",
      "\n"
     ]
    }
   ],
   "source": [
    "from sklearn.metrics import (accuracy_score, f1_score, log_loss, classification_report)\n",
    "print(\"f1 score: {}\".format(f1_score(target_val, lr_predictions)))\n",
    "print(\"Accuracy: {}\".format(accuracy_score(target_val, lr_predictions)))\n",
    "print(\"=\"*80)\n",
    "print(classification_report(target_val, lr_predictions))"
   ]
  },
  {
   "cell_type": "code",
   "execution_count": 307,
   "metadata": {},
   "outputs": [],
   "source": [
    "# Random Forest\n",
    "seed = 123   # We set our random seed to zero for reproducibility\n",
    "# Random Forest parameters\n",
    "rf_params = {\n",
    "    'n_jobs': -1,\n",
    "    'n_estimators': 1000,\n",
    "#     'warm_start': True, \n",
    "    'max_features': 0.3,\n",
    "    'max_depth': 4,\n",
    "    'min_samples_leaf': 2,\n",
    "    'max_features' : 'sqrt',\n",
    "    'random_state' : seed,\n",
    "    'verbose': 0\n",
    "}"
   ]
  },
  {
   "cell_type": "code",
   "execution_count": 308,
   "metadata": {},
   "outputs": [
    {
     "name": "stdout",
     "output_type": "stream",
     "text": [
      "Fitting of Random Forest finished\n"
     ]
    }
   ],
   "source": [
    "rf = RandomForestClassifier(**rf_params)\n",
    "rf.fit(train, target_train)\n",
    "print(\"Fitting of Random Forest finished\")"
   ]
  },
  {
   "cell_type": "code",
   "execution_count": 309,
   "metadata": {},
   "outputs": [
    {
     "name": "stdout",
     "output_type": "stream",
     "text": [
      "Predictions finished\n"
     ]
    }
   ],
   "source": [
    "rf_predictions = rf.predict(test)\n",
    "print(\"Predictions finished\")"
   ]
  },
  {
   "cell_type": "code",
   "execution_count": 310,
   "metadata": {},
   "outputs": [
    {
     "name": "stdout",
     "output_type": "stream",
     "text": [
      "f1 score: 0.8761061946902655\n",
      "Accuracy: 0.8238993710691824\n",
      "================================================================================\n",
      "              precision    recall  f1-score   support\n",
      "\n",
      "           0       0.89      0.57      0.70       168\n",
      "           1       0.80      0.96      0.88       309\n",
      "\n",
      "    accuracy                           0.82       477\n",
      "   macro avg       0.85      0.77      0.79       477\n",
      "weighted avg       0.83      0.82      0.81       477\n",
      "\n"
     ]
    }
   ],
   "source": [
    "print(\"f1 score: {}\".format(f1_score(target_val, rf_predictions)))\n",
    "print(\"Accuracy: {}\".format(accuracy_score(target_val, rf_predictions)))\n",
    "print(\"=\"*80)\n",
    "print(classification_report(target_val, rf_predictions))"
   ]
  },
  {
   "cell_type": "code",
   "execution_count": 311,
   "metadata": {},
   "outputs": [],
   "source": [
    "# Gradient Boosting Params\n",
    "gb_params ={\n",
    "    'n_estimators': 1500,\n",
    "    'max_features': 0.9,\n",
    "    'learning_rate' : 0.25,\n",
    "    'max_depth': 4,\n",
    "    'min_samples_leaf': 2,\n",
    "    'subsample': 1,\n",
    "    'max_features' : 'sqrt',\n",
    "    'random_state' : seed,\n",
    "    'verbose': 0\n",
    "}"
   ]
  },
  {
   "cell_type": "code",
   "execution_count": 312,
   "metadata": {},
   "outputs": [
    {
     "name": "stdout",
     "output_type": "stream",
     "text": [
      "Predictions have finished\n"
     ]
    }
   ],
   "source": [
    "gb = GradientBoostingClassifier(**gb_params)\n",
    "gb.fit(train, target_train)\n",
    "# Get our predictions\n",
    "gb_predictions = gb.predict(test)\n",
    "print(\"Predictions have finished\")"
   ]
  },
  {
   "cell_type": "code",
   "execution_count": 313,
   "metadata": {},
   "outputs": [
    {
     "name": "stdout",
     "output_type": "stream",
     "text": [
      "f1 score: 0.9142857142857143\n",
      "Accuracy: 0.8867924528301887\n",
      "================================================================================\n",
      "              precision    recall  f1-score   support\n",
      "\n",
      "           0       0.87      0.80      0.83       168\n",
      "           1       0.90      0.93      0.91       309\n",
      "\n",
      "    accuracy                           0.89       477\n",
      "   macro avg       0.88      0.87      0.87       477\n",
      "weighted avg       0.89      0.89      0.89       477\n",
      "\n"
     ]
    }
   ],
   "source": [
    "print(\"f1 score: {}\".format(f1_score(target_val, gb_predictions)))\n",
    "print(\"Accuracy: {}\".format(accuracy_score(target_val, gb_predictions)))\n",
    "print(\"=\"*80)\n",
    "print(classification_report(target_val, gb_predictions))"
   ]
  },
  {
   "cell_type": "code",
   "execution_count": 314,
   "metadata": {},
   "outputs": [],
   "source": [
    "lgb_params = {\n",
    "    'task': 'train',\n",
    "    'boosting_type': 'gbdt',\n",
    "    'objective':'binary',\n",
    "    'metric': {'auc'},\n",
    "    'num_leaves': 96,\n",
    "    'learning_rate': 0.01,\n",
    "    'feature_fraction': 0.5,\n",
    "    'bagging_fraction': 0.5,\n",
    "    'bagging_freq': 1,\n",
    "    'verbose': 1,\n",
    "    'min_data_in_leaf' : 1,\n",
    "    'max_bin' : 255,\n",
    "    'lambda_l1' : 0.00002,\n",
    "    'lambda_l2' : 0.00001,\n",
    "    'min_gain_to_split' : 0.001\n",
    "}"
   ]
  },
  {
   "cell_type": "code",
   "execution_count": 318,
   "metadata": {},
   "outputs": [
    {
     "name": "stdout",
     "output_type": "stream",
     "text": [
      "Predictions have finished\n"
     ]
    }
   ],
   "source": [
    "import lightgbm as lgb\n",
    "seed=123\n",
    "lgb = lgb.LGBMClassifier()\n",
    "lgb.fit(train, target_train)\n",
    "# Get our predictions\n",
    "lgb_predictions = lgb.predict(test)\n",
    "print(\"Predictions have finished\")"
   ]
  },
  {
   "cell_type": "code",
   "execution_count": null,
   "metadata": {},
   "outputs": [],
   "source": [
    "print(\"f1 score: {}\".format(f1_score(target_val, lgb_predictions)))\n",
    "print(\"Accuracy: {}\".format(accuracy_score(target_val, lgb_predictions)))\n",
    "print(\"=\"*80)\n",
    "print(classification_report(target_val, lgb_predictions))"
   ]
  },
  {
   "cell_type": "code",
   "execution_count": 319,
   "metadata": {},
   "outputs": [
    {
     "name": "stdout",
     "output_type": "stream",
     "text": [
      "0:\ttotal: 10.4ms\tremaining: 1m 21s\n",
      "500:\ttotal: 2.39s\tremaining: 34.8s\n",
      "1000:\ttotal: 5.11s\tremaining: 34.6s\n",
      "1500:\ttotal: 7.83s\tremaining: 32.7s\n",
      "2000:\ttotal: 10.5s\tremaining: 30.4s\n",
      "2500:\ttotal: 13s\tremaining: 27.5s\n",
      "3000:\ttotal: 14.8s\tremaining: 23.5s\n",
      "3500:\ttotal: 17.4s\tremaining: 21.3s\n",
      "4000:\ttotal: 19.9s\tremaining: 18.8s\n",
      "4500:\ttotal: 23.3s\tremaining: 17s\n",
      "5000:\ttotal: 25.4s\tremaining: 14.1s\n",
      "5500:\ttotal: 27.1s\tremaining: 11.2s\n",
      "6000:\ttotal: 29.4s\tremaining: 8.71s\n",
      "6500:\ttotal: 31.7s\tremaining: 6.22s\n",
      "7000:\ttotal: 34s\tremaining: 3.77s\n",
      "7500:\ttotal: 36.3s\tremaining: 1.33s\n",
      "7776:\ttotal: 37.2s\tremaining: 0us\n",
      "Predictions have finished\n"
     ]
    }
   ],
   "source": [
    "## Cat Boosting\n",
    "seed = 123\n",
    "cb = CatBoostClassifier(\n",
    "    iterations=7777,\n",
    "    learning_rate = 0.03,\n",
    "    verbose=500,\n",
    "    eval_metric = 'AUC'\n",
    ")\n",
    "cb.fit(train, target_train)\n",
    "# Get our predictions\n",
    "cb_predictions = cb.predict(test)\n",
    "print(\"Predictions have finished\")"
   ]
  },
  {
   "cell_type": "code",
   "execution_count": 320,
   "metadata": {},
   "outputs": [
    {
     "name": "stdout",
     "output_type": "stream",
     "text": [
      "f1 score: 0.9102564102564101\n",
      "Accuracy: 0.8825995807127882\n",
      "================================================================================\n",
      "              precision    recall  f1-score   support\n",
      "\n",
      "           0       0.85      0.82      0.83       168\n",
      "           1       0.90      0.92      0.91       309\n",
      "\n",
      "    accuracy                           0.88       477\n",
      "   macro avg       0.87      0.87      0.87       477\n",
      "weighted avg       0.88      0.88      0.88       477\n",
      "\n"
     ]
    }
   ],
   "source": [
    "print(\"f1 score: {}\".format(f1_score(target_val, cb_predictions)))\n",
    "print(\"Accuracy: {}\".format(accuracy_score(target_val, cb_predictions)))\n",
    "print(\"=\"*80)\n",
    "print(classification_report(target_val, cb_predictions))"
   ]
  },
  {
   "cell_type": "code",
   "execution_count": 321,
   "metadata": {},
   "outputs": [
    {
     "name": "stdout",
     "output_type": "stream",
     "text": [
      "[18:01:46] WARNING: C:/Users/Administrator/workspace/xgboost-win64_release_1.5.0/src/learner.cc:1115: Starting in XGBoost 1.3.0, the default evaluation metric used with the objective 'binary:logistic' was changed from 'error' to 'logloss'. Explicitly set eval_metric if you'd like to restore the old behavior.\n",
      "Predictions have finished\n"
     ]
    }
   ],
   "source": [
    "## Xg Boosting\n",
    "seed = 123\n",
    "xgb = XGBClassifier(n_estimators=100)\n",
    "xgb.fit(train, target_train)\n",
    "# Get our predictions\n",
    "xgb_predictions = xgb.predict(test)\n",
    "print(\"Predictions have finished\")"
   ]
  },
  {
   "cell_type": "code",
   "execution_count": 322,
   "metadata": {},
   "outputs": [
    {
     "name": "stdout",
     "output_type": "stream",
     "text": [
      "f1 score: 0.9133858267716535\n",
      "Accuracy: 0.8846960167714885\n",
      "================================================================================\n",
      "              precision    recall  f1-score   support\n",
      "\n",
      "           0       0.87      0.79      0.83       168\n",
      "           1       0.89      0.94      0.91       309\n",
      "\n",
      "    accuracy                           0.88       477\n",
      "   macro avg       0.88      0.86      0.87       477\n",
      "weighted avg       0.88      0.88      0.88       477\n",
      "\n"
     ]
    }
   ],
   "source": [
    "print(\"f1 score: {}\".format(f1_score(target_val, xgb_predictions)))\n",
    "print(\"Accuracy: {}\".format(accuracy_score(target_val, xgb_predictions)))\n",
    "print(\"=\"*80)\n",
    "print(classification_report(target_val, xgb_predictions))"
   ]
  },
  {
   "cell_type": "code",
   "execution_count": 323,
   "metadata": {},
   "outputs": [
    {
     "name": "stdout",
     "output_type": "stream",
     "text": [
      "Mean lgb: 0.8849664566565725\n"
     ]
    }
   ],
   "source": [
    "from sklearn.model_selection import cross_val_score\n",
    "lgb_scores = cross_val_score(lgb, train, target_train, cv=10, scoring = \"f1_macro\")\n",
    "#print(\"Scores:\", scores)\n",
    "print(\"Mean lgb:\", lgb_scores.mean())"
   ]
  },
  {
   "cell_type": "code",
   "execution_count": 324,
   "metadata": {},
   "outputs": [
    {
     "data": {
      "text/html": [
       "<div>\n",
       "<style scoped>\n",
       "    .dataframe tbody tr th:only-of-type {\n",
       "        vertical-align: middle;\n",
       "    }\n",
       "\n",
       "    .dataframe tbody tr th {\n",
       "        vertical-align: top;\n",
       "    }\n",
       "\n",
       "    .dataframe thead th {\n",
       "        text-align: right;\n",
       "    }\n",
       "</style>\n",
       "<table border=\"1\" class=\"dataframe\">\n",
       "  <thead>\n",
       "    <tr style=\"text-align: right;\">\n",
       "      <th></th>\n",
       "      <th>Importance</th>\n",
       "    </tr>\n",
       "    <tr>\n",
       "      <th>Feature</th>\n",
       "      <th></th>\n",
       "    </tr>\n",
       "  </thead>\n",
       "  <tbody>\n",
       "    <tr>\n",
       "      <th>Last_Quarterly_Rating</th>\n",
       "      <td>0.261768</td>\n",
       "    </tr>\n",
       "    <tr>\n",
       "      <th>Tenure_months</th>\n",
       "      <td>0.098260</td>\n",
       "    </tr>\n",
       "    <tr>\n",
       "      <th>City_C25</th>\n",
       "      <td>0.065275</td>\n",
       "    </tr>\n",
       "    <tr>\n",
       "      <th>City_C1</th>\n",
       "      <td>0.059108</td>\n",
       "    </tr>\n",
       "    <tr>\n",
       "      <th>City_C28</th>\n",
       "      <td>0.047081</td>\n",
       "    </tr>\n",
       "    <tr>\n",
       "      <th>Avg_Quarterly_Business</th>\n",
       "      <td>0.032768</td>\n",
       "    </tr>\n",
       "    <tr>\n",
       "      <th>City_C9</th>\n",
       "      <td>0.030830</td>\n",
       "    </tr>\n",
       "    <tr>\n",
       "      <th>Designation</th>\n",
       "      <td>0.021347</td>\n",
       "    </tr>\n",
       "    <tr>\n",
       "      <th>City_C10</th>\n",
       "      <td>0.019516</td>\n",
       "    </tr>\n",
       "    <tr>\n",
       "      <th>City_C2</th>\n",
       "      <td>0.019137</td>\n",
       "    </tr>\n",
       "    <tr>\n",
       "      <th>Promotion</th>\n",
       "      <td>0.018655</td>\n",
       "    </tr>\n",
       "    <tr>\n",
       "      <th>City_C5</th>\n",
       "      <td>0.018192</td>\n",
       "    </tr>\n",
       "    <tr>\n",
       "      <th>City_C3</th>\n",
       "      <td>0.016592</td>\n",
       "    </tr>\n",
       "    <tr>\n",
       "      <th>City_C27</th>\n",
       "      <td>0.016456</td>\n",
       "    </tr>\n",
       "    <tr>\n",
       "      <th>City_C17</th>\n",
       "      <td>0.016423</td>\n",
       "    </tr>\n",
       "    <tr>\n",
       "      <th>Education_Level_College</th>\n",
       "      <td>0.016115</td>\n",
       "    </tr>\n",
       "    <tr>\n",
       "      <th>City_C8</th>\n",
       "      <td>0.016020</td>\n",
       "    </tr>\n",
       "    <tr>\n",
       "      <th>Age</th>\n",
       "      <td>0.015673</td>\n",
       "    </tr>\n",
       "    <tr>\n",
       "      <th>Last_Salary</th>\n",
       "      <td>0.014590</td>\n",
       "    </tr>\n",
       "    <tr>\n",
       "      <th>Education_Level_Master</th>\n",
       "      <td>0.013754</td>\n",
       "    </tr>\n",
       "    <tr>\n",
       "      <th>City_C14</th>\n",
       "      <td>0.013527</td>\n",
       "    </tr>\n",
       "    <tr>\n",
       "      <th>City_C22</th>\n",
       "      <td>0.012383</td>\n",
       "    </tr>\n",
       "    <tr>\n",
       "      <th>City_C6</th>\n",
       "      <td>0.012297</td>\n",
       "    </tr>\n",
       "    <tr>\n",
       "      <th>Gender_Female</th>\n",
       "      <td>0.012138</td>\n",
       "    </tr>\n",
       "    <tr>\n",
       "      <th>City_C23</th>\n",
       "      <td>0.011787</td>\n",
       "    </tr>\n",
       "    <tr>\n",
       "      <th>City_C4</th>\n",
       "      <td>0.011633</td>\n",
       "    </tr>\n",
       "    <tr>\n",
       "      <th>Education_Level_Bachelor</th>\n",
       "      <td>0.011382</td>\n",
       "    </tr>\n",
       "    <tr>\n",
       "      <th>City_C15</th>\n",
       "      <td>0.011204</td>\n",
       "    </tr>\n",
       "    <tr>\n",
       "      <th>City_C16</th>\n",
       "      <td>0.010774</td>\n",
       "    </tr>\n",
       "    <tr>\n",
       "      <th>City_C29</th>\n",
       "      <td>0.010294</td>\n",
       "    </tr>\n",
       "    <tr>\n",
       "      <th>City_C26</th>\n",
       "      <td>0.009557</td>\n",
       "    </tr>\n",
       "    <tr>\n",
       "      <th>City_C20</th>\n",
       "      <td>0.009139</td>\n",
       "    </tr>\n",
       "    <tr>\n",
       "      <th>City_C7</th>\n",
       "      <td>0.009127</td>\n",
       "    </tr>\n",
       "    <tr>\n",
       "      <th>City_C24</th>\n",
       "      <td>0.008732</td>\n",
       "    </tr>\n",
       "    <tr>\n",
       "      <th>City_C21</th>\n",
       "      <td>0.008631</td>\n",
       "    </tr>\n",
       "    <tr>\n",
       "      <th>City_C18</th>\n",
       "      <td>0.008090</td>\n",
       "    </tr>\n",
       "    <tr>\n",
       "      <th>City_C11</th>\n",
       "      <td>0.004520</td>\n",
       "    </tr>\n",
       "    <tr>\n",
       "      <th>City_C13</th>\n",
       "      <td>0.004266</td>\n",
       "    </tr>\n",
       "    <tr>\n",
       "      <th>City_C19</th>\n",
       "      <td>0.002956</td>\n",
       "    </tr>\n",
       "    <tr>\n",
       "      <th>Gender_Male</th>\n",
       "      <td>0.000000</td>\n",
       "    </tr>\n",
       "    <tr>\n",
       "      <th>City_C12</th>\n",
       "      <td>0.000000</td>\n",
       "    </tr>\n",
       "  </tbody>\n",
       "</table>\n",
       "</div>"
      ],
      "text/plain": [
       "                          Importance\n",
       "Feature                             \n",
       "Last_Quarterly_Rating       0.261768\n",
       "Tenure_months               0.098260\n",
       "City_C25                    0.065275\n",
       "City_C1                     0.059108\n",
       "City_C28                    0.047081\n",
       "Avg_Quarterly_Business      0.032768\n",
       "City_C9                     0.030830\n",
       "Designation                 0.021347\n",
       "City_C10                    0.019516\n",
       "City_C2                     0.019137\n",
       "Promotion                   0.018655\n",
       "City_C5                     0.018192\n",
       "City_C3                     0.016592\n",
       "City_C27                    0.016456\n",
       "City_C17                    0.016423\n",
       "Education_Level_College     0.016115\n",
       "City_C8                     0.016020\n",
       "Age                         0.015673\n",
       "Last_Salary                 0.014590\n",
       "Education_Level_Master      0.013754\n",
       "City_C14                    0.013527\n",
       "City_C22                    0.012383\n",
       "City_C6                     0.012297\n",
       "Gender_Female               0.012138\n",
       "City_C23                    0.011787\n",
       "City_C4                     0.011633\n",
       "Education_Level_Bachelor    0.011382\n",
       "City_C15                    0.011204\n",
       "City_C16                    0.010774\n",
       "City_C29                    0.010294\n",
       "City_C26                    0.009557\n",
       "City_C20                    0.009139\n",
       "City_C7                     0.009127\n",
       "City_C24                    0.008732\n",
       "City_C21                    0.008631\n",
       "City_C18                    0.008090\n",
       "City_C11                    0.004520\n",
       "City_C13                    0.004266\n",
       "City_C19                    0.002956\n",
       "Gender_Male                 0.000000\n",
       "City_C12                    0.000000"
      ]
     },
     "execution_count": 324,
     "metadata": {},
     "output_type": "execute_result"
    }
   ],
   "source": [
    "importances = pd.DataFrame({\n",
    "    'Feature': train_df.columns,\n",
    "    'Importance': xgb.feature_importances_\n",
    "})\n",
    "importances = importances.sort_values(by='Importance', ascending=False)\n",
    "importances = importances.set_index('Feature')\n",
    "importances"
   ]
  },
  {
   "cell_type": "code",
   "execution_count": 325,
   "metadata": {},
   "outputs": [],
   "source": [
    "test_df = test_df.drop(['Emp_ID', 'Churn'],axis=1)"
   ]
  },
  {
   "cell_type": "code",
   "execution_count": 326,
   "metadata": {},
   "outputs": [],
   "source": [
    "#test_df['Churn'] = lgb.predict(test_df)\n",
    "test_df['Churn'] = lgb.predict(test_df)"
   ]
  },
  {
   "cell_type": "code",
   "execution_count": 327,
   "metadata": {},
   "outputs": [],
   "source": [
    "submission['Target'] = test_df['Churn']"
   ]
  },
  {
   "cell_type": "code",
   "execution_count": 328,
   "metadata": {},
   "outputs": [
    {
     "data": {
      "text/html": [
       "<div>\n",
       "<style scoped>\n",
       "    .dataframe tbody tr th:only-of-type {\n",
       "        vertical-align: middle;\n",
       "    }\n",
       "\n",
       "    .dataframe tbody tr th {\n",
       "        vertical-align: top;\n",
       "    }\n",
       "\n",
       "    .dataframe thead th {\n",
       "        text-align: right;\n",
       "    }\n",
       "</style>\n",
       "<table border=\"1\" class=\"dataframe\">\n",
       "  <thead>\n",
       "    <tr style=\"text-align: right;\">\n",
       "      <th></th>\n",
       "      <th>Age</th>\n",
       "      <th>Promotion</th>\n",
       "      <th>Designation</th>\n",
       "      <th>Last_Salary</th>\n",
       "      <th>Last_Quarterly_Rating</th>\n",
       "      <th>Tenure_months</th>\n",
       "      <th>Avg_Quarterly_Business</th>\n",
       "      <th>Gender_Female</th>\n",
       "      <th>Gender_Male</th>\n",
       "      <th>Education_Level_Bachelor</th>\n",
       "      <th>Education_Level_College</th>\n",
       "      <th>Education_Level_Master</th>\n",
       "      <th>City_C1</th>\n",
       "      <th>City_C10</th>\n",
       "      <th>City_C11</th>\n",
       "      <th>City_C12</th>\n",
       "      <th>City_C13</th>\n",
       "      <th>City_C14</th>\n",
       "      <th>City_C15</th>\n",
       "      <th>City_C16</th>\n",
       "      <th>City_C17</th>\n",
       "      <th>City_C18</th>\n",
       "      <th>City_C19</th>\n",
       "      <th>City_C2</th>\n",
       "      <th>City_C20</th>\n",
       "      <th>City_C21</th>\n",
       "      <th>City_C22</th>\n",
       "      <th>City_C23</th>\n",
       "      <th>City_C24</th>\n",
       "      <th>City_C25</th>\n",
       "      <th>City_C26</th>\n",
       "      <th>City_C27</th>\n",
       "      <th>City_C28</th>\n",
       "      <th>City_C29</th>\n",
       "      <th>City_C3</th>\n",
       "      <th>City_C4</th>\n",
       "      <th>City_C5</th>\n",
       "      <th>City_C6</th>\n",
       "      <th>City_C7</th>\n",
       "      <th>City_C8</th>\n",
       "      <th>City_C9</th>\n",
       "      <th>Churn</th>\n",
       "    </tr>\n",
       "  </thead>\n",
       "  <tbody>\n",
       "    <tr>\n",
       "      <th>0</th>\n",
       "      <td>0.297297</td>\n",
       "      <td>2</td>\n",
       "      <td>3</td>\n",
       "      <td>97722</td>\n",
       "      <td>2</td>\n",
       "      <td>0.750000</td>\n",
       "      <td>0.321824</td>\n",
       "      <td>1</td>\n",
       "      <td>0</td>\n",
       "      <td>0</td>\n",
       "      <td>0</td>\n",
       "      <td>1</td>\n",
       "      <td>0</td>\n",
       "      <td>0</td>\n",
       "      <td>0</td>\n",
       "      <td>0</td>\n",
       "      <td>0</td>\n",
       "      <td>0</td>\n",
       "      <td>0</td>\n",
       "      <td>0</td>\n",
       "      <td>0</td>\n",
       "      <td>0</td>\n",
       "      <td>0</td>\n",
       "      <td>0</td>\n",
       "      <td>1</td>\n",
       "      <td>0</td>\n",
       "      <td>0</td>\n",
       "      <td>0</td>\n",
       "      <td>0</td>\n",
       "      <td>0</td>\n",
       "      <td>0</td>\n",
       "      <td>0</td>\n",
       "      <td>0</td>\n",
       "      <td>0</td>\n",
       "      <td>0</td>\n",
       "      <td>0</td>\n",
       "      <td>0</td>\n",
       "      <td>0</td>\n",
       "      <td>0</td>\n",
       "      <td>0</td>\n",
       "      <td>0</td>\n",
       "      <td>0</td>\n",
       "    </tr>\n",
       "    <tr>\n",
       "      <th>1</th>\n",
       "      <td>0.432432</td>\n",
       "      <td>2</td>\n",
       "      <td>2</td>\n",
       "      <td>56174</td>\n",
       "      <td>2</td>\n",
       "      <td>0.750000</td>\n",
       "      <td>0.245966</td>\n",
       "      <td>0</td>\n",
       "      <td>1</td>\n",
       "      <td>0</td>\n",
       "      <td>1</td>\n",
       "      <td>0</td>\n",
       "      <td>0</td>\n",
       "      <td>0</td>\n",
       "      <td>0</td>\n",
       "      <td>0</td>\n",
       "      <td>0</td>\n",
       "      <td>0</td>\n",
       "      <td>0</td>\n",
       "      <td>0</td>\n",
       "      <td>0</td>\n",
       "      <td>0</td>\n",
       "      <td>0</td>\n",
       "      <td>0</td>\n",
       "      <td>0</td>\n",
       "      <td>0</td>\n",
       "      <td>0</td>\n",
       "      <td>0</td>\n",
       "      <td>0</td>\n",
       "      <td>0</td>\n",
       "      <td>0</td>\n",
       "      <td>0</td>\n",
       "      <td>1</td>\n",
       "      <td>0</td>\n",
       "      <td>0</td>\n",
       "      <td>0</td>\n",
       "      <td>0</td>\n",
       "      <td>0</td>\n",
       "      <td>0</td>\n",
       "      <td>0</td>\n",
       "      <td>0</td>\n",
       "      <td>0</td>\n",
       "    </tr>\n",
       "    <tr>\n",
       "      <th>2</th>\n",
       "      <td>0.432432</td>\n",
       "      <td>2</td>\n",
       "      <td>3</td>\n",
       "      <td>96750</td>\n",
       "      <td>1</td>\n",
       "      <td>0.750000</td>\n",
       "      <td>0.550880</td>\n",
       "      <td>0</td>\n",
       "      <td>1</td>\n",
       "      <td>0</td>\n",
       "      <td>1</td>\n",
       "      <td>0</td>\n",
       "      <td>0</td>\n",
       "      <td>0</td>\n",
       "      <td>0</td>\n",
       "      <td>0</td>\n",
       "      <td>1</td>\n",
       "      <td>0</td>\n",
       "      <td>0</td>\n",
       "      <td>0</td>\n",
       "      <td>0</td>\n",
       "      <td>0</td>\n",
       "      <td>0</td>\n",
       "      <td>0</td>\n",
       "      <td>0</td>\n",
       "      <td>0</td>\n",
       "      <td>0</td>\n",
       "      <td>0</td>\n",
       "      <td>0</td>\n",
       "      <td>0</td>\n",
       "      <td>0</td>\n",
       "      <td>0</td>\n",
       "      <td>0</td>\n",
       "      <td>0</td>\n",
       "      <td>0</td>\n",
       "      <td>0</td>\n",
       "      <td>0</td>\n",
       "      <td>0</td>\n",
       "      <td>0</td>\n",
       "      <td>0</td>\n",
       "      <td>0</td>\n",
       "      <td>0</td>\n",
       "    </tr>\n",
       "    <tr>\n",
       "      <th>3</th>\n",
       "      <td>0.486486</td>\n",
       "      <td>3</td>\n",
       "      <td>3</td>\n",
       "      <td>88813</td>\n",
       "      <td>1</td>\n",
       "      <td>0.701923</td>\n",
       "      <td>0.218666</td>\n",
       "      <td>1</td>\n",
       "      <td>0</td>\n",
       "      <td>0</td>\n",
       "      <td>1</td>\n",
       "      <td>0</td>\n",
       "      <td>0</td>\n",
       "      <td>0</td>\n",
       "      <td>0</td>\n",
       "      <td>0</td>\n",
       "      <td>0</td>\n",
       "      <td>0</td>\n",
       "      <td>0</td>\n",
       "      <td>0</td>\n",
       "      <td>0</td>\n",
       "      <td>0</td>\n",
       "      <td>0</td>\n",
       "      <td>0</td>\n",
       "      <td>0</td>\n",
       "      <td>0</td>\n",
       "      <td>0</td>\n",
       "      <td>0</td>\n",
       "      <td>0</td>\n",
       "      <td>0</td>\n",
       "      <td>0</td>\n",
       "      <td>0</td>\n",
       "      <td>0</td>\n",
       "      <td>0</td>\n",
       "      <td>0</td>\n",
       "      <td>0</td>\n",
       "      <td>0</td>\n",
       "      <td>0</td>\n",
       "      <td>0</td>\n",
       "      <td>1</td>\n",
       "      <td>0</td>\n",
       "      <td>1</td>\n",
       "    </tr>\n",
       "    <tr>\n",
       "      <th>4</th>\n",
       "      <td>0.243243</td>\n",
       "      <td>3</td>\n",
       "      <td>4</td>\n",
       "      <td>188418</td>\n",
       "      <td>1</td>\n",
       "      <td>0.730769</td>\n",
       "      <td>0.627238</td>\n",
       "      <td>0</td>\n",
       "      <td>1</td>\n",
       "      <td>0</td>\n",
       "      <td>0</td>\n",
       "      <td>1</td>\n",
       "      <td>0</td>\n",
       "      <td>0</td>\n",
       "      <td>0</td>\n",
       "      <td>0</td>\n",
       "      <td>0</td>\n",
       "      <td>0</td>\n",
       "      <td>0</td>\n",
       "      <td>0</td>\n",
       "      <td>0</td>\n",
       "      <td>0</td>\n",
       "      <td>0</td>\n",
       "      <td>0</td>\n",
       "      <td>0</td>\n",
       "      <td>0</td>\n",
       "      <td>0</td>\n",
       "      <td>0</td>\n",
       "      <td>0</td>\n",
       "      <td>0</td>\n",
       "      <td>0</td>\n",
       "      <td>0</td>\n",
       "      <td>0</td>\n",
       "      <td>0</td>\n",
       "      <td>0</td>\n",
       "      <td>0</td>\n",
       "      <td>1</td>\n",
       "      <td>0</td>\n",
       "      <td>0</td>\n",
       "      <td>0</td>\n",
       "      <td>0</td>\n",
       "      <td>0</td>\n",
       "    </tr>\n",
       "  </tbody>\n",
       "</table>\n",
       "</div>"
      ],
      "text/plain": [
       "        Age  Promotion  Designation  Last_Salary  Last_Quarterly_Rating  \\\n",
       "0  0.297297          2            3        97722                      2   \n",
       "1  0.432432          2            2        56174                      2   \n",
       "2  0.432432          2            3        96750                      1   \n",
       "3  0.486486          3            3        88813                      1   \n",
       "4  0.243243          3            4       188418                      1   \n",
       "\n",
       "   Tenure_months  Avg_Quarterly_Business  Gender_Female  Gender_Male  \\\n",
       "0       0.750000                0.321824              1            0   \n",
       "1       0.750000                0.245966              0            1   \n",
       "2       0.750000                0.550880              0            1   \n",
       "3       0.701923                0.218666              1            0   \n",
       "4       0.730769                0.627238              0            1   \n",
       "\n",
       "   Education_Level_Bachelor  Education_Level_College  Education_Level_Master  \\\n",
       "0                         0                        0                       1   \n",
       "1                         0                        1                       0   \n",
       "2                         0                        1                       0   \n",
       "3                         0                        1                       0   \n",
       "4                         0                        0                       1   \n",
       "\n",
       "   City_C1  City_C10  City_C11  City_C12  City_C13  City_C14  City_C15  \\\n",
       "0        0         0         0         0         0         0         0   \n",
       "1        0         0         0         0         0         0         0   \n",
       "2        0         0         0         0         1         0         0   \n",
       "3        0         0         0         0         0         0         0   \n",
       "4        0         0         0         0         0         0         0   \n",
       "\n",
       "   City_C16  City_C17  City_C18  City_C19  City_C2  City_C20  City_C21  \\\n",
       "0         0         0         0         0        0         1         0   \n",
       "1         0         0         0         0        0         0         0   \n",
       "2         0         0         0         0        0         0         0   \n",
       "3         0         0         0         0        0         0         0   \n",
       "4         0         0         0         0        0         0         0   \n",
       "\n",
       "   City_C22  City_C23  City_C24  City_C25  City_C26  City_C27  City_C28  \\\n",
       "0         0         0         0         0         0         0         0   \n",
       "1         0         0         0         0         0         0         1   \n",
       "2         0         0         0         0         0         0         0   \n",
       "3         0         0         0         0         0         0         0   \n",
       "4         0         0         0         0         0         0         0   \n",
       "\n",
       "   City_C29  City_C3  City_C4  City_C5  City_C6  City_C7  City_C8  City_C9  \\\n",
       "0         0        0        0        0        0        0        0        0   \n",
       "1         0        0        0        0        0        0        0        0   \n",
       "2         0        0        0        0        0        0        0        0   \n",
       "3         0        0        0        0        0        0        1        0   \n",
       "4         0        0        0        1        0        0        0        0   \n",
       "\n",
       "   Churn  \n",
       "0      0  \n",
       "1      0  \n",
       "2      0  \n",
       "3      1  \n",
       "4      0  "
      ]
     },
     "execution_count": 328,
     "metadata": {},
     "output_type": "execute_result"
    }
   ],
   "source": [
    "test_df.head()"
   ]
  },
  {
   "cell_type": "code",
   "execution_count": 329,
   "metadata": {},
   "outputs": [
    {
     "data": {
      "text/html": [
       "<div>\n",
       "<style scoped>\n",
       "    .dataframe tbody tr th:only-of-type {\n",
       "        vertical-align: middle;\n",
       "    }\n",
       "\n",
       "    .dataframe tbody tr th {\n",
       "        vertical-align: top;\n",
       "    }\n",
       "\n",
       "    .dataframe thead th {\n",
       "        text-align: right;\n",
       "    }\n",
       "</style>\n",
       "<table border=\"1\" class=\"dataframe\">\n",
       "  <thead>\n",
       "    <tr style=\"text-align: right;\">\n",
       "      <th></th>\n",
       "      <th>Emp_ID</th>\n",
       "      <th>Target</th>\n",
       "    </tr>\n",
       "  </thead>\n",
       "  <tbody>\n",
       "    <tr>\n",
       "      <th>0</th>\n",
       "      <td>394</td>\n",
       "      <td>0</td>\n",
       "    </tr>\n",
       "    <tr>\n",
       "      <th>1</th>\n",
       "      <td>173</td>\n",
       "      <td>0</td>\n",
       "    </tr>\n",
       "    <tr>\n",
       "      <th>2</th>\n",
       "      <td>1090</td>\n",
       "      <td>0</td>\n",
       "    </tr>\n",
       "    <tr>\n",
       "      <th>3</th>\n",
       "      <td>840</td>\n",
       "      <td>1</td>\n",
       "    </tr>\n",
       "    <tr>\n",
       "      <th>4</th>\n",
       "      <td>308</td>\n",
       "      <td>0</td>\n",
       "    </tr>\n",
       "    <tr>\n",
       "      <th>5</th>\n",
       "      <td>1864</td>\n",
       "      <td>0</td>\n",
       "    </tr>\n",
       "    <tr>\n",
       "      <th>6</th>\n",
       "      <td>1606</td>\n",
       "      <td>0</td>\n",
       "    </tr>\n",
       "    <tr>\n",
       "      <th>7</th>\n",
       "      <td>954</td>\n",
       "      <td>0</td>\n",
       "    </tr>\n",
       "    <tr>\n",
       "      <th>8</th>\n",
       "      <td>2422</td>\n",
       "      <td>0</td>\n",
       "    </tr>\n",
       "    <tr>\n",
       "      <th>9</th>\n",
       "      <td>1841</td>\n",
       "      <td>0</td>\n",
       "    </tr>\n",
       "    <tr>\n",
       "      <th>10</th>\n",
       "      <td>1484</td>\n",
       "      <td>0</td>\n",
       "    </tr>\n",
       "    <tr>\n",
       "      <th>11</th>\n",
       "      <td>2727</td>\n",
       "      <td>0</td>\n",
       "    </tr>\n",
       "    <tr>\n",
       "      <th>12</th>\n",
       "      <td>1031</td>\n",
       "      <td>0</td>\n",
       "    </tr>\n",
       "    <tr>\n",
       "      <th>13</th>\n",
       "      <td>2137</td>\n",
       "      <td>0</td>\n",
       "    </tr>\n",
       "    <tr>\n",
       "      <th>14</th>\n",
       "      <td>2568</td>\n",
       "      <td>0</td>\n",
       "    </tr>\n",
       "    <tr>\n",
       "      <th>15</th>\n",
       "      <td>1745</td>\n",
       "      <td>0</td>\n",
       "    </tr>\n",
       "    <tr>\n",
       "      <th>16</th>\n",
       "      <td>2668</td>\n",
       "      <td>0</td>\n",
       "    </tr>\n",
       "    <tr>\n",
       "      <th>17</th>\n",
       "      <td>2617</td>\n",
       "      <td>0</td>\n",
       "    </tr>\n",
       "    <tr>\n",
       "      <th>18</th>\n",
       "      <td>2070</td>\n",
       "      <td>0</td>\n",
       "    </tr>\n",
       "    <tr>\n",
       "      <th>19</th>\n",
       "      <td>1446</td>\n",
       "      <td>0</td>\n",
       "    </tr>\n",
       "  </tbody>\n",
       "</table>\n",
       "</div>"
      ],
      "text/plain": [
       "    Emp_ID  Target\n",
       "0      394       0\n",
       "1      173       0\n",
       "2     1090       0\n",
       "3      840       1\n",
       "4      308       0\n",
       "5     1864       0\n",
       "6     1606       0\n",
       "7      954       0\n",
       "8     2422       0\n",
       "9     1841       0\n",
       "10    1484       0\n",
       "11    2727       0\n",
       "12    1031       0\n",
       "13    2137       0\n",
       "14    2568       0\n",
       "15    1745       0\n",
       "16    2668       0\n",
       "17    2617       0\n",
       "18    2070       0\n",
       "19    1446       0"
      ]
     },
     "execution_count": 329,
     "metadata": {},
     "output_type": "execute_result"
    }
   ],
   "source": [
    "submission.head(20)"
   ]
  },
  {
   "cell_type": "code",
   "execution_count": 330,
   "metadata": {},
   "outputs": [],
   "source": [
    "submission.to_csv('submission_lgb_4.csv',index=False)"
   ]
  },
  {
   "cell_type": "code",
   "execution_count": null,
   "metadata": {},
   "outputs": [],
   "source": [
    "# Undersampling\n",
    "# oversampler=SMOTE(random_state=0)\n",
    "# smote_train, smote_target = oversampler.fit_sample(train,target_train)"
   ]
  }
 ],
 "metadata": {
  "kernelspec": {
   "display_name": "Python 3",
   "language": "python",
   "name": "python3"
  },
  "language_info": {
   "codemirror_mode": {
    "name": "ipython",
    "version": 3
   },
   "file_extension": ".py",
   "mimetype": "text/x-python",
   "name": "python",
   "nbconvert_exporter": "python",
   "pygments_lexer": "ipython3",
   "version": "3.8.5"
  }
 },
 "nbformat": 4,
 "nbformat_minor": 4
}
